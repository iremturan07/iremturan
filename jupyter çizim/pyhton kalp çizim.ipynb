{
 "cells": [
  {
   "cell_type": "code",
   "execution_count": null,
   "id": "76c43d51",
   "metadata": {},
   "outputs": [],
   "source": [
    "from turtle import*\n",
    "color(\"purple\")\n",
    "bgcolor(\"grey\")\n",
    "begin_fill()\n",
    "pensize(4)\n",
    "\n",
    "left(50)\n",
    "forward(133)\n",
    "circle(50,200)\n",
    "right(148)\n",
    "circle(50,200)\n",
    "forward(133)\n",
    "end_fill()\n",
    "\n",
    "color(\"black\")\n",
    "write(\"    irem turan \", font=(\"verdana\" ,7,\"bold\"))\n",
    "\n",
    "exitonclick()"
   ]
  },
  {
   "cell_type": "code",
   "execution_count": null,
   "id": "9a5b212b",
   "metadata": {},
   "outputs": [],
   "source": []
  },
  {
   "cell_type": "code",
   "execution_count": null,
   "id": "ae7b965a",
   "metadata": {},
   "outputs": [],
   "source": []
  }
 ],
 "metadata": {
  "kernelspec": {
   "display_name": "env_ybs_irem_new",
   "language": "python",
   "name": "env_ybs_irem_new"
  },
  "language_info": {
   "codemirror_mode": {
    "name": "ipython",
    "version": 3
   },
   "file_extension": ".py",
   "mimetype": "text/x-python",
   "name": "python",
   "nbconvert_exporter": "python",
   "pygments_lexer": "ipython3",
   "version": "3.10.10"
  }
 },
 "nbformat": 4,
 "nbformat_minor": 5
}
