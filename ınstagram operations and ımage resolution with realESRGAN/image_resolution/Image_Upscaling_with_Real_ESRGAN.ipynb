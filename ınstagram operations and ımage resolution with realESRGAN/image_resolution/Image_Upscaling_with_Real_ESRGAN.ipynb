{
 "cells": [
  {
   "cell_type": "code",
   "execution_count": 1,
   "id": "7f5e5965",
   "metadata": {},
   "outputs": [
    {
     "name": "stderr",
     "output_type": "stream",
     "text": [
      "C:\\Anaconda\\envs\\env_ybs_irem_new\\lib\\site-packages\\tqdm\\auto.py:21: TqdmWarning: IProgress not found. Please update jupyter and ipywidgets. See https://ipywidgets.readthedocs.io/en/stable/user_install.html\n",
      "  from .autonotebook import tqdm as notebook_tqdm\n",
      "C:\\Anaconda\\envs\\env_ybs_irem_new\\lib\\site-packages\\torch\\amp\\autocast_mode.py:250: UserWarning: User provided device_type of 'cuda', but CUDA is not available. Disabling\n",
      "  warnings.warn(\n"
     ]
    }
   ],
   "source": [
    "import torch\n",
    "from PIL import Image\n",
    "import numpy as np\n",
    "from RealESRGAN import RealESRGAN\n",
    "import time"
   ]
  },
  {
   "cell_type": "code",
   "execution_count": 3,
   "id": "98094910",
   "metadata": {},
   "outputs": [
    {
     "name": "stdout",
     "output_type": "stream",
     "text": [
      "Çözünürlük Artırma İşlemi Başladı\n",
      "Algoritma Çalışma Süresi = 99.1951916217804\n"
     ]
    }
   ],
   "source": [
    "device = torch.device('cuda' if torch.cuda.is_available() else 'cpu')\n",
    "\n",
    "model = RealESRGAN(device, scale=4)\n",
    "model.load_weights('weights/RealESRGAN_x4.pth', download=True)\n",
    "\n",
    "path_to_image = 'inputs/irem.turan__profile_pic.jpg'\n",
    "image = Image.open(path_to_image).convert('RGB')\n",
    "\n",
    "print(\"Çözünürlük Artırma İşlemi Başladı\")\n",
    "basla = time.time()\n",
    "sr_image = model.predict(image)\n",
    "\n",
    "bitir = time.time()\n",
    "\n",
    "sr_image.save('results/sr_image_2.png')\n",
    "\n",
    "print(f\"Algoritma Çalışma Süresi = {str(bitir-basla)}\")"
   ]
  },
  {
   "cell_type": "code",
   "execution_count": null,
   "id": "e0e91023",
   "metadata": {},
   "outputs": [],
   "source": []
  }
 ],
 "metadata": {
  "kernelspec": {
   "display_name": "env_ybs_irem_new",
   "language": "python",
   "name": "env_ybs_irem_new"
  },
  "language_info": {
   "codemirror_mode": {
    "name": "ipython",
    "version": 3
   },
   "file_extension": ".py",
   "mimetype": "text/x-python",
   "name": "python",
   "nbconvert_exporter": "python",
   "pygments_lexer": "ipython3",
   "version": "3.10.10"
  }
 },
 "nbformat": 4,
 "nbformat_minor": 5
}
